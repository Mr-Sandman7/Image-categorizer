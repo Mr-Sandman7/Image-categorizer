{
  "cells": [
    {
      "cell_type": "markdown",
      "metadata": {
        "id": "W9EJqf4T9a_1"
      },
      "source": [
        "<h1 dir=rtl align=center style=\"line-height:200%;font-family:vazir;color:#0099cc\">\n",
        "<font face=\"vazir\" color=\"#0099cc\">\n",
        "دسته‌یاب تصویر\n",
        "</font>\n",
        "</h1>\n",
        "\n",
        "\n",
        "<p dir=rtl style=\"direction: rtl; text-align: justify; line-height:200%; font-family:vazir; font-size:medium\">\n",
        "<font face=\"vazir\" size=3>\n",
        "به پروژه‌ی دوم کالج یادگیری عمیق خوش آمدید! 🥳\n",
        "مجموعه‌داده‌ی این پروژه توسط <a href=\"https://torob.com/\" target=\"_blank\">ترب</a> در اختیار شما قرار گرفته و شامل بخشی از داده‌های واقعی این وب‌سایت است. همان‌طور که می‌دانید ترب یک موتور جست‌وجوی خرید است که اطلاعات هر محصول را از فروشگاه‌های آنلاین مختلف گرد هم آورده و در یک صفحه‌ی واحد نمایش می‌دهد. بنابراین کاربران قادر خواهند بود به‌راحتی محصول موردنظرشان را پیدا کرده و فروشندگان مختلف آن را مقایسه کنند. یکی از مهم‌ترین نیازمندی‌های فنی چنین پلتفرمی، تشخیص خودکار اطلاعات محصولات است، زیرا پالایش دستی این حجم از داده و استخراج اطلاعات از آن‌ها امری بسیار زمان‌گیر و هزینه‌بر خواهد بود. شاید بتوان دسته‌بندی یک محصول را مهم‌ترین اطلاعات آن دانست، زیرا که در جست‌وجوپذیری آن نقش مهمی ایفا می‌کند.  بنابراین در این پروژه به کمک ترب خواهیم آمد و یک مدل یادگیری عمیق طراحی می‌کنیم که بتواند براساس تصویر یک محصول، دسته‌بندی آن را بیابد.\n",
        "</font>\n",
        "</p>"
      ]
    },
    {
      "cell_type": "markdown",
      "metadata": {
        "id": "cs-csjvO9a_5"
      },
      "source": [
        "<h2 dir=rtl align=right style=\"line-height:200%;font-family:vazir;color:#0099cc\">\n",
        "<font face=\"vazir\" color=\"#0099cc\">\n",
        "مجموعه‌داده\n",
        "</font>\n",
        "</h2>\n",
        "\n",
        "<p dir=rtl style=\"direction: rtl; text-align: justify; line-height:200%; font-family:vazir; font-size:medium\">\n",
        "<font face=\"vazir\" size=3>\n",
        "به‌دلیل حجم بالای مجموعه‌داده نیاز است آن را جداگانه از <a href=\"https://drive.google.com/file/d/1hZK1rshl4dJVEPkUPykU5cZs_ANyTWp-/view?usp=sharing\" target=\"_blank\">این لینک</a> دانلود کرده و فایل‌های داخل آن را استخراج کنید.  توجه داشته باشید که اندازه‌ی مجموعه‌داده حدود ۲۷۰ مگابایت است و اگر قصد دانلود این حجم از داده را ندارید پیشنهاد می‌کنیم از محیط گوگل کولب استفاده کرده و به‌صورت مستقیم با دستور زیر این فایل را روی کولب خود بارگیری کنید.\n",
        "</font>\n",
        "</p>\n",
        "\n",
        "`!gdown 1hZK1rshl4dJVEPkUPykU5cZs_ANyTWp-`\n",
        "\n",
        "<details dir=\"rtl\" style=\"direction: rtl;text-align: justify;line-height:200%;font-family:vazir;font-size:medium\">\n",
        "<summary dir=\"rtl\" style=\"color:orange\"><b>رفع مشکل عدم امکان دانلود فایل با <code>gdown</code></b></summary>\n",
        "\n",
        "اگر در هنگام دانلود فایل به‌کمک <code>gdown</code> با خطای عدم اجازه‌ی دسترسی مواجه شدید، کافیست کد زیر را اجرا کرده و دوباره امتحان کنید.\n",
        "\n",
        "<span dir=ltr style=\"direction:ltr;\">\n",
        "\n",
        "`!pip install --upgrade --no-cache-dir gdown`\n",
        "\n",
        "</span>\n",
        "</details>\n",
        "\n",
        "<p dir=rtl style=\"direction: rtl; text-align: justify; line-height:200%; font-family:vazir; font-size:medium\">\n",
        "<font face=\"vazir\" size=3>\n",
        "مجموعه‌داده‌ی این پروژه شامل ۱۱ دسته‌ی محصول مختلف است که تصاویر مربوط به نمونه‌های آموزشی هر دسته در داخل پوشه‌ای با نامی معادل با شناسه‌ی دسته در پوشه‌ی <code>train</code> قرار گرفته است. همچنین تصاویر مربوط به نمونه‌های آزمون در داخل پوشه‌ی <code>test</code> قرار دارد و مدل شما باید بتواند با ورودی گرفتن هر کدام از این تصاویر، دسته‌ی آن را تشخیص دهد.\n",
        "دسته‌های این محصولات و شناسه‌ی هر کدام در جدول زیر آمده است:‌\n",
        "</font>\n",
        "</p>\n",
        "\n",
        "<center>\n",
        "<div dir=rtl style=\"direction: rtl;line-height:200%;font-family:vazir;font-size:medium\">\n",
        "<font face=\"vazir\" size=3>\n",
        "\n",
        "| <b>شناسه‌ی دسته</b> | <b>عنوان دسته</b> |\n",
        "| :---: | :---: |\n",
        "| <code>0</code> | کاپشن، بارانی و پالتو مردانه |\n",
        "| <code>1</code> | سویشرت و هودی مردانه |\n",
        "| <code>2</code> | ساعت مچی عقربه‌ ای و دیجیتالی |\n",
        "| <code>3</code> | ساعت دیواری، رومیزی و تزیینی |\n",
        "| <code>4</code> | لوازم جانبی ساعت معمولی و هوشمند |\n",
        "| <code>5</code> | سویشرت و هودی خردسال و نوجوان |\n",
        "| <code>6</code> | کاپشن و پالتو خردسال و نوجوان |\n",
        "| <code>7</code> | سویشرت ورزشی مردانه |\n",
        "| <code>8</code> | سویشرت و شلوار ورزشی مردانه |\n",
        "| <code>9</code> | ساک و چرخ خرید |\n",
        "| <code>10</code> | چمدان و ساک |\n",
        "\n",
        "</font>\n",
        "</div>\n",
        "</center>\n",
        "\n",
        "\n",
        "<p dir=rtl style=\"direction: rtl; text-align: justify; line-height:200%; font-family:vazir; font-size:medium\">\n",
        "<font face=\"vazir\" size=3>\n",
        "در ابتدا فایل‌های مربوطه را خوانده و نحوه‌ی بارگیری تصاویر مجموعه‌داده را پیاده‌سازی کنید.\n",
        "\n",
        "</font>\n",
        "</p>"
      ]
    },
    {
      "cell_type": "code",
      "execution_count": null,
      "metadata": {
        "id": "5Zzqq4eO9dOR"
      },
      "outputs": [],
      "source": [
        "!gdown 1hZK1rshl4dJVEPkUPykU5cZs_ANyTWp-"
      ]
    },
    {
      "cell_type": "code",
      "execution_count": null,
      "metadata": {
        "id": "oHGMTg5I9a_7"
      },
      "outputs": [],
      "source": [
        "import pandas as pd\n",
        "import numpy as np"
      ]
    },
    {
      "cell_type": "code",
      "execution_count": null,
      "metadata": {
        "id": "hkisYNAc9bAB"
      },
      "outputs": [],
      "source": [
        "# Reading/Loading the dataset files\n",
        "# TODO"
      ]
    },
    {
      "cell_type": "markdown",
      "metadata": {
        "id": "G6eQYY5w9bAC"
      },
      "source": [
        "<h2 dir=rtl align=right style=\"line-height:200%;font-family:vazir;color:#0099cc\">\n",
        "<font face=\"vazir\" color=\"#0099cc\">\n",
        "پیش‌پردازش\n",
        "</font>\n",
        "</h2>\n",
        "\n",
        "<p dir=rtl style=\"direction: rtl; text-align: justify; line-height:200%; font-family:vazir; font-size:medium\">\n",
        "<font face=\"vazir\" size=3>\n",
        "از هرگونه پیش‌پردازشی که فکر می‌کنید به بهبود عملکرد مدل و فرآیند آموزش آن کمک می‌کند بهره ببرید. از جمله کارهایی که شاید در این مرحله به آن نیاز پیدا کنید می‌توان به تغییر اندازه‌ی تصاویر، نرمال‌سازی مقادیر تصاویر، استفاده از تکنیک‌های تقویت داده (داده‌افزایی)، اعمال تابع پیش‌پردازش یک مدل پیش‌آموخته‌ی مشخص و غیره اشاره کرد.\n",
        "</font>\n",
        "</p>"
      ]
    },
    {
      "cell_type": "code",
      "execution_count": null,
      "metadata": {
        "id": "OTeLYJjQ9bAC"
      },
      "outputs": [],
      "source": [
        "# Preprocessing step\n",
        "# TODO"
      ]
    },
    {
      "cell_type": "markdown",
      "metadata": {
        "id": "SMaOGNR09bAC"
      },
      "source": [
        "<h2 dir=rtl align=right style=\"line-height:200%;font-family:vazir;color:#0099cc\">\n",
        "<font face=\"vazir\" color=\"#0099cc\">\n",
        "مدل‌سازی\n",
        "</font>\n",
        "</h2>\n",
        "\n",
        "\n",
        "<p dir=rtl style=\"direction: rtl; text-align: justify; line-height:200%; font-family:vazir; font-size:medium\">\n",
        "<font face=\"vazir\" size=3>\n",
        "در این پروژه کاملاً دست‌تان باز است تا ساختارهای دلخواه خود را پیاده و آزمایش کنید. می‌توانید یک شبکه‌ی عصبی کانولوشنی طراحی کنید و از تکنیک‌های رایج این نوع شبکه‌ها بهره ببرید تا به مدلی با عملکرد مناسب دست یابید، یا می‌توانید از یک شبکه‌ی پیش‌آموخته کمک گرفته و تصمیم بگیرید که چه لایه‌هایی را به آن اضافه کنید یا چه بخش‌هایی از آن را فریز کرده یا آموزش دهید. همچنین استفاده از تکنیک‌های دیگری که در فصل بهینه‌سازی و هایپرپارامتر آموخته‌اید را فراموش نکنید.\n",
        "</font>\n",
        "</p>"
      ]
    },
    {
      "cell_type": "code",
      "execution_count": null,
      "metadata": {
        "id": "uUPbjdnO9bAD"
      },
      "outputs": [],
      "source": [
        "# Model design\n",
        "# TODO"
      ]
    },
    {
      "cell_type": "markdown",
      "metadata": {
        "id": "eSpKW0jJ9bAD"
      },
      "source": [
        "<h2 dir=rtl align=right style=\"line-height:200%;font-family:vazir;color:#0099cc\">\n",
        "<font face=\"vazir\" color=\"#0099cc\">\n",
        "پیش‌بینی\n",
        "</font>\n",
        "</h2>\n",
        "\n",
        "<p dir=rtl style=\"direction: rtl; text-align: justify; line-height:200%; font-family:vazir; font-size:medium\">\n",
        "<font face=\"vazir\" size=3>\n",
        "در پوشه‌ی <code>test</code> چندین نمونه‌ی آزمون در اختیار شما قرار گرفته و نیاز است مدل شما تا حد ممکن دسته‌بندی هر کدام از آن‌ها را به‌درستی تشخیص دهد. پیشنهاد می‌کنیم برای اطمینان از عملکرد مدل خود و بهبود آن، ابتدا آن را بر روی یک مجموعه‌ی اعتبارسنجی آزمایش کنید.\n",
        "</font>\n",
        "</p>\n",
        "\n",
        "\n",
        "<h3 dir=rtl align=right style=\"line-height:200%;font-family:vazir;color:#0099cc\">\n",
        "<font face=\"vazir\" color=\"#0099cc\">\n",
        "معیار ارزیابی\n",
        "</font>\n",
        "</h3>\n",
        "\n",
        "<p dir=rtl style=\"direction: rtl; text-align: justify; line-height:200%; font-family:vazir; font-size:medium\">\n",
        "<font face=\"vazir\" size=3>\n",
        "هدف این است که مدل شما دسته‌بندی یک محصول را با دقت بالا پیش‌بینی کند، بنابراین در این پروژه از معیار  <code>Accuracy</code> جهت ارزیابی نتایج مدل شما استفاده خواهد شد.\n",
        "</font>\n",
        "</p>\n",
        "\n",
        "<p dir=rtl style=\"direction: rtl; text-align: justify; line-height:200%; font-family:vazir; font-size:medium\">\n",
        "<font color=\"red\"><b color='red'>توجه:</b></font>\n",
        "<font face=\"vazir\" size=3>\n",
        " جهت کسب امتیاز کامل نیاز است تا پاسخ شما حداقل امتیاز <code>83</code> را با توجه به معیار معرفی‌شده کسب نماید.\n",
        "</font>\n",
        "</p>"
      ]
    },
    {
      "cell_type": "code",
      "execution_count": null,
      "metadata": {
        "id": "N6DahTSo9bAD"
      },
      "outputs": [],
      "source": [
        "# Evaluate\n",
        "# TODO"
      ]
    },
    {
      "attachments": {},
      "cell_type": "markdown",
      "metadata": {
        "id": "a_DUHsd69bAE"
      },
      "source": [
        "<h3 align=right style=\"line-height:200%;font-family:vazir;color:#0099cc\">\n",
        "<font face=\"vazir\" color=\"#0099cc\">\n",
        "ساختار خروجی برای نمونه‌های آزمون\n",
        "</font>\n",
        "</h3>\n",
        "\n",
        "<p dir=rtl style=\"direction: rtl; text-align: justify; line-height:200%; font-family:vazir; font-size:medium\">\n",
        "<font face=\"vazir\" size=3>\n",
        " پیش‌بینی مدل خود را برای نمونه‌های آزمون به‌شکل برچسبی بین ۰ تا ۱۰ تولید کرده و در ستون <code>cat_id</code> یک دیتافریم با نام <code>submission</code> در قالب جدول زیر ذخیره کنید.\n",
        "</font>\n",
        "</p>\n",
        "\n",
        "<center>\n",
        "<div dir=rtl style=\"direction: rtl;line-height:200%;font-family:vazir;font-size:medium\">\n",
        "<font face=\"vazir\" size=3>\n",
        "    \n",
        "|ستون|توضیحات|\n",
        "|:------:|:---:|\n",
        "|<code>image_name</code>|نام فایل تصویر (مشابه با نمونه‌ی آزمون)|\n",
        "|<code>cat_id</code>|برچسب/شناسه‌ی دسته (پیش‌بینی مدل)|\n",
        "    \n",
        "</font>\n",
        "</div>\n",
        "</center>\n",
        "\n",
        "<p dir=rtl style=\"direction: rtl; text-align: justify; line-height:200%; font-family:vazir; font-size:medium\">\n",
        "<font color=\"red\"><b color='red'>توجه:</b></font>\n",
        "<font face=\"vazir\" size=3>\n",
        "در تبدیل خروجی مدل به برچسب‌ها توجه داشته باشید که اگر از تابع <code>image_dataset_from_directory</code> جهت خواندن تصاویر استفاده کرده‌اید، ترتیب برچسب‌ها به آن شکلی نیست که انتظارش را داریم و به شکل زیر خواهد بود. بنابراین خروجی نورون سوم برابر پیش‌بینی برچسب ۱۰ است و نه ۲! پس اگر روی خروجی مدل تابع <code>np.argmax</code> اعمال کنید برچسب‌های درستی تولید نمی‌شود. این موضوع یکی از چالش‌های رایج در پروژه‌های دسته‌بندی تصویر است که مشاهده می‌کنیم مدل روی داده‌های آموزشی و اعتبارسنجی به‌خوبی عمل می‌کند اما در زمان آزمون عملکرد بسیار بدی از خود نشان می‌دهد و شوکه می‌شویم. دلیلش این است که نگاشت خروجی به برچسب را به‌درستی انجام نداده‌ایم.\n",
        "</font>\n",
        "</p>\n",
        "\n",
        "`['0', '1', '10', '2', '3', '4', '5', '6', '7', '8', '9']`"
      ]
    },
    {
      "cell_type": "code",
      "execution_count": null,
      "metadata": {
        "id": "cSD3SwaJ9bAE"
      },
      "outputs": [],
      "source": [
        "# Preparing submission file\n",
        "submission = None # TODO\n",
        "submission"
      ]
    },
    {
      "cell_type": "markdown",
      "metadata": {
        "id": "3MF05eyB9bAE"
      },
      "source": [
        "<h2 align=right style=\"line-height:200%;font-family:vazir;color:#0099cc\">\n",
        "<font face=\"vazir\" color=\"#0099cc\">\n",
        "<b>سلول جواب‌ساز</b>\n",
        "</font>\n",
        "</h2>\n",
        "\n",
        "<p dir=rtl style=\"direction: rtl; text-align: justify; line-height:200%; font-family:vazir; font-size:medium\">\n",
        "<font face=\"vazir\" size=3>\n",
        "    برای ساخته‌شدن فایل <code>result.zip</code> سلول زیر را اجرا کنید. توجه داشته باشید که پیش از اجرای سلول زیر تغییرات اعمال شده در نت‌بوک را ذخیره کرده باشید (<code>ctrl+s</code>) تا در صورت نیاز به پشتیبانی امکان بررسی کد شما وجود داشته باشد.</font>\n",
        "</p>"
      ]
    },
    {
      "cell_type": "code",
      "execution_count": null,
      "metadata": {
        "id": "beA07J9I9bAF"
      },
      "outputs": [],
      "source": [
        "import zipfile\n",
        "import joblib\n",
        "\n",
        "def compress(file_names):\n",
        "    print(\"File Paths:\")\n",
        "    print(file_names)\n",
        "    compression = zipfile.ZIP_DEFLATED\n",
        "    with zipfile.ZipFile(\"result.zip\", mode=\"w\") as zf:\n",
        "        for file_name in file_names:\n",
        "            zf.write('./' + file_name, file_name, compress_type=compression)\n",
        "\n",
        "submission.to_csv('submission.csv', index=False)\n",
        "file_names = ['image_categorizer.ipynb', 'submission.csv']\n",
        "compress(file_names)"
      ]
    }
  ],
  "metadata": {
    "colab": {
      "provenance": []
    },
    "kernelspec": {
      "display_name": "py311",
      "language": "python",
      "name": "python3"
    },
    "language_info": {
      "name": "python",
      "version": "3.11.5"
    }
  },
  "nbformat": 4,
  "nbformat_minor": 0
}
